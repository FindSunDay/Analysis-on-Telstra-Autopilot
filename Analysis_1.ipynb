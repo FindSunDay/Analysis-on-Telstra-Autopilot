{
 "cells": [
  {
   "cell_type": "code",
   "execution_count": 1,
   "metadata": {},
   "outputs": [],
   "source": [
    "# create entry points to spark\n",
    "from pyspark import SparkContext # Spark\n",
    "from pyspark.sql import SparkSession # Spark SQL\n",
    "\n",
    "sc = SparkContext(master=\"local[*]\", appName=\"Machine Learning in Tesla Auto Follow System\")\n",
    "spark = SparkSession(sparkContext=sc)"
   ]
  },
  {
   "cell_type": "code",
   "execution_count": 2,
   "metadata": {
    "scrolled": true
   },
   "outputs": [
    {
     "name": "stdout",
     "output_type": "stream",
     "text": [
      "+------------+-----------+-----+-----+---------+---------+------------------------+\n",
      "|Day_Or_Night|Cars_Around|Windy|Rainy|Position1|Position2|Is_Front_Car_Change_Lane|\n",
      "+------------+-----------+-----+-----+---------+---------+------------------------+\n",
      "|         Day|          3|   No|   No|      0.2|        1|                       1|\n",
      "|       Night|          0|   No|   No|     -0.3|        0|                       0|\n",
      "|         Day|          8|   No|   No|      0.4|      0.3|                       0|\n",
      "|         Day|          3|  Yes|   No|     -0.5|     -1.5|                       1|\n",
      "|       Night|          3|   No|   No|    -0.25|     Null|                       0|\n",
      "|       Night|          0|  Yes|  Yes|      0.1|      0.1|                       0|\n",
      "|       Night|          2|   No|  Yes|     0.25|      1.2|                       0|\n",
      "|       Night|          3|   No|   No|      0.2|        1|                       1|\n",
      "|       Night|          1|   No|  Yes|     -0.3|        0|                       0|\n",
      "|       Night|          6|   No|   No|      0.4|      0.3|                       0|\n",
      "|       Night|          3|  Yes|   No|     -0.5|     -1.5|                       1|\n",
      "|       Night|          3|   No|  Yes|      0.2|        1|                       1|\n",
      "|       Night|          0|   No|   No|     -0.3|        0|                       0|\n",
      "|       Night|          9|   No|   No|      0.4|      0.3|                       0|\n",
      "|       Night|          3|  Yes|  Yes|     -0.5|     -1.5|                       1|\n",
      "|       Night|          3|   No|   No|      0.2|        1|                       1|\n",
      "|       Night|          5|   No|   No|     -0.3|        0|                       0|\n",
      "|       Night|          7|   No|   No|      0.4|      0.3|                       0|\n",
      "|       Night|          3|  Yes|   No|     -0.5|     -1.5|                       0|\n",
      "|       Night|          3|   No|   No|      0.2|        1|                       1|\n",
      "+------------+-----------+-----+-----+---------+---------+------------------------+\n",
      "only showing top 20 rows\n",
      "\n"
     ]
    }
   ],
   "source": [
    "df = spark.read.csv('autopilot.csv', header=True, inferSchema=True)\n",
    "df.show()"
   ]
  },
  {
   "cell_type": "code",
   "execution_count": 3,
   "metadata": {
    "scrolled": true
   },
   "outputs": [
    {
     "name": "stdout",
     "output_type": "stream",
     "text": [
      "+------------+-----------+-----+-----+---------+--------------------+------------------------+\n",
      "|Day_Or_Night|Cars_Around|Windy|Rainy|Position1|           Position2|Is_Front_Car_Change_Lane|\n",
      "+------------+-----------+-----+-----+---------+--------------------+------------------------+\n",
      "|         Day|          3|   No|   No|      0.2|                   1|                       1|\n",
      "|       Night|          0|   No|   No|     -0.3|                   0|                       0|\n",
      "|         Day|          8|   No|   No|      0.4|                 0.3|                       0|\n",
      "|         Day|          3|  Yes|   No|     -0.5|                -1.5|                       1|\n",
      "|       Night|          3|   No|   No|    -0.25|-0.09904761904761904|                       0|\n",
      "|       Night|          0|  Yes|  Yes|      0.1|                 0.1|                       0|\n",
      "|       Night|          2|   No|  Yes|     0.25|                 1.2|                       0|\n",
      "|       Night|          3|   No|   No|      0.2|                   1|                       1|\n",
      "|       Night|          1|   No|  Yes|     -0.3|                   0|                       0|\n",
      "|       Night|          6|   No|   No|      0.4|                 0.3|                       0|\n",
      "|       Night|          3|  Yes|   No|     -0.5|                -1.5|                       1|\n",
      "|       Night|          3|   No|  Yes|      0.2|                   1|                       1|\n",
      "|       Night|          0|   No|   No|     -0.3|                   0|                       0|\n",
      "|       Night|          9|   No|   No|      0.4|                 0.3|                       0|\n",
      "|       Night|          3|  Yes|  Yes|     -0.5|                -1.5|                       1|\n",
      "|       Night|          3|   No|   No|      0.2|                   1|                       1|\n",
      "|       Night|          5|   No|   No|     -0.3|                   0|                       0|\n",
      "|       Night|          7|   No|   No|      0.4|                 0.3|                       0|\n",
      "|       Night|          3|  Yes|   No|     -0.5|                -1.5|                       0|\n",
      "|       Night|          3|   No|   No|      0.2|                   1|                       1|\n",
      "+------------+-----------+-----+-----+---------+--------------------+------------------------+\n",
      "only showing top 20 rows\n",
      "\n"
     ]
    }
   ],
   "source": [
    "from pyspark.sql.functions import avg\n",
    "\n",
    "average = df.select(avg('Position2')).head()[0]\n",
    "df = df.na.replace('Null', str(average), 'Position2')\n",
    "df.show()"
   ]
  },
  {
   "cell_type": "code",
   "execution_count": 4,
   "metadata": {},
   "outputs": [
    {
     "name": "stdout",
     "output_type": "stream",
     "text": [
      "+-----------+---------+--------------------+------------------------+----------------+---------+---------+\n",
      "|Cars_Around|Position1|           Position2|Is_Front_Car_Change_Lane|Day_Or_Night_num|Windy_num|Rainy_num|\n",
      "+-----------+---------+--------------------+------------------------+----------------+---------+---------+\n",
      "|        3.0|      0.2|                 1.0|                     1.0|             0.0|      0.0|      0.0|\n",
      "|        0.0|     -0.3|                 0.0|                     0.0|             1.0|      0.0|      0.0|\n",
      "|        8.0|      0.4|                 0.3|                     0.0|             0.0|      0.0|      0.0|\n",
      "|        3.0|     -0.5|                -1.5|                     1.0|             0.0|      1.0|      0.0|\n",
      "|        3.0|    -0.25|-0.09904761904761904|                     0.0|             1.0|      0.0|      0.0|\n",
      "|        0.0|      0.1|                 0.1|                     0.0|             1.0|      1.0|      1.0|\n",
      "|        2.0|     0.25|                 1.2|                     0.0|             1.0|      0.0|      1.0|\n",
      "|        3.0|      0.2|                 1.0|                     1.0|             1.0|      0.0|      0.0|\n",
      "|        1.0|     -0.3|                 0.0|                     0.0|             1.0|      0.0|      1.0|\n",
      "|        6.0|      0.4|                 0.3|                     0.0|             1.0|      0.0|      0.0|\n",
      "|        3.0|     -0.5|                -1.5|                     1.0|             1.0|      1.0|      0.0|\n",
      "|        3.0|      0.2|                 1.0|                     1.0|             1.0|      0.0|      1.0|\n",
      "|        0.0|     -0.3|                 0.0|                     0.0|             1.0|      0.0|      0.0|\n",
      "|        9.0|      0.4|                 0.3|                     0.0|             1.0|      0.0|      0.0|\n",
      "|        3.0|     -0.5|                -1.5|                     1.0|             1.0|      1.0|      1.0|\n",
      "|        3.0|      0.2|                 1.0|                     1.0|             1.0|      0.0|      0.0|\n",
      "|        5.0|     -0.3|                 0.0|                     0.0|             1.0|      0.0|      0.0|\n",
      "|        7.0|      0.4|                 0.3|                     0.0|             1.0|      0.0|      0.0|\n",
      "|        3.0|     -0.5|                -1.5|                     0.0|             1.0|      1.0|      0.0|\n",
      "|        3.0|      0.2|                 1.0|                     1.0|             1.0|      0.0|      0.0|\n",
      "+-----------+---------+--------------------+------------------------+----------------+---------+---------+\n",
      "only showing top 20 rows\n",
      "\n"
     ]
    }
   ],
   "source": [
    "from pyspark.ml.feature import StringIndexer\n",
    "from pyspark.sql import functions\n",
    "\n",
    "\n",
    "for col in df.columns:    \n",
    "    data = df.select(functions.col(col).cast('double').isNotNull()).collect()\n",
    "    \n",
    "    #numerica\n",
    "    if data[0][0]:\n",
    "        #use withColumn to alternate original column with double version\n",
    "        df = df.withColumn(col, functions.col(col).cast('double'))\n",
    "        \n",
    "    \n",
    "    #non-numerica\n",
    "    #use StringIndexer to fit non-numerica columns to numbers\n",
    "    else:\n",
    "        col_num = col+'_num'\n",
    "        num_StringIndexer = StringIndexer(inputCol = col, outputCol = col_num)       \n",
    "        model = num_StringIndexer.fit(df)       \n",
    "        df = model.transform(df)        \n",
    "        #drop the original non-numerica data\n",
    "        df = df.drop(col)\n",
    "        \n",
    "df.show()"
   ]
  },
  {
   "cell_type": "code",
   "execution_count": 5,
   "metadata": {},
   "outputs": [
    {
     "name": "stdout",
     "output_type": "stream",
     "text": [
      "+-----------+---------+---------+------------------------+----------------+---------+---------+--------------------+\n",
      "|Cars_Around|Position1|Position2|Is_Front_Car_Change_Lane|Day_Or_Night_num|Windy_num|Rainy_num|            features|\n",
      "+-----------+---------+---------+------------------------+----------------+---------+---------+--------------------+\n",
      "|        3.0|      0.2|      1.0|                     1.0|             0.0|      0.0|      0.0|[3.0,0.2,1.0,0.0,...|\n",
      "|        0.0|     -0.3|      0.0|                     0.0|             1.0|      0.0|      0.0|(6,[1,3],[-0.3,1.0])|\n",
      "|        8.0|      0.4|      0.3|                     0.0|             0.0|      0.0|      0.0|[8.0,0.4,0.3,0.0,...|\n",
      "+-----------+---------+---------+------------------------+----------------+---------+---------+--------------------+\n",
      "only showing top 3 rows\n",
      "\n",
      "+------------------------+--------------------+\n",
      "|Is_Front_Car_Change_Lane|            features|\n",
      "+------------------------+--------------------+\n",
      "|                     1.0|[3.0,0.2,1.0,0.0,...|\n",
      "|                     0.0|(6,[1,3],[-0.3,1.0])|\n",
      "|                     0.0|[8.0,0.4,0.3,0.0,...|\n",
      "+------------------------+--------------------+\n",
      "only showing top 3 rows\n",
      "\n"
     ]
    }
   ],
   "source": [
    "from pyspark.ml.linalg import Vectors\n",
    "from pyspark.ml.feature import VectorAssembler\n",
    "\n",
    "#exclude 'Is_Front_Car_Change_Lane' as column to test accuracy\n",
    "inputCols = ['Cars_Around', 'Position1', 'Position2', 'Day_Or_Night_num', 'Windy_num', 'Rainy_num']\n",
    "#create feature vector\n",
    "vector_assembler = VectorAssembler(\\\n",
    "inputCols=inputCols,\\\n",
    "outputCol='features')\n",
    "\n",
    "df_temp = vector_assembler.transform(df)\n",
    "df_temp.show(3)\n",
    "\n",
    "#remain just Is_Front_Car_Change_Lane and features columns\n",
    "df = df_temp.select('Is_Front_Car_Change_Lane','features')\n",
    "df.show(3)\n",
    "\n",
    "\n",
    "(trainingData, testData) = df.randomSplit([0.7, 0.3], seed = 1996)"
   ]
  },
  {
   "cell_type": "markdown",
   "metadata": {},
   "source": [
    "## DT"
   ]
  },
  {
   "cell_type": "code",
   "execution_count": 6,
   "metadata": {},
   "outputs": [
    {
     "name": "stdout",
     "output_type": "stream",
     "text": [
      "+----------+------------------------+\n",
      "|prediction|Is_Front_Car_Change_Lane|\n",
      "+----------+------------------------+\n",
      "|       0.0|                     0.0|\n",
      "|       0.0|                     0.0|\n",
      "|       0.0|                     0.0|\n",
      "|       0.0|                     0.0|\n",
      "|       0.0|                     0.0|\n",
      "|       0.0|                     0.0|\n",
      "|       0.0|                     0.0|\n",
      "|       0.0|                     0.0|\n",
      "|       0.0|                     0.0|\n",
      "|       0.0|                     0.0|\n",
      "+----------+------------------------+\n",
      "only showing top 10 rows\n",
      "\n",
      "Accuracy =  0.8888888888888888\n",
      "Test Error = 0.111111 \n"
     ]
    }
   ],
   "source": [
    "from pyspark.ml.classification import DecisionTreeClassifier\n",
    "from pyspark.ml.evaluation import MulticlassClassificationEvaluator\n",
    "\n",
    "dt = DecisionTreeClassifier(labelCol=\"Is_Front_Car_Change_Lane\", featuresCol=\"features\")\n",
    "model = dt.fit(trainingData)\n",
    "\n",
    "predictions = model.transform(testData)\n",
    "\n",
    "predictions.select(\"prediction\", \"Is_Front_Car_Change_Lane\").show(10)\n",
    "\n",
    "evaluator = MulticlassClassificationEvaluator(\\\n",
    "labelCol=\"Is_Front_Car_Change_Lane\", predictionCol=\"prediction\",\\\n",
    "metricName=\"accuracy\")\n",
    "\n",
    "accuracy1 = evaluator.evaluate(predictions)\n",
    "\n",
    "print(\"Accuracy = \", accuracy1)\n",
    "print(\"Test Error = %g \" % (1.0 - accuracy1))"
   ]
  },
  {
   "cell_type": "markdown",
   "metadata": {},
   "source": [
    "## LR"
   ]
  },
  {
   "cell_type": "code",
   "execution_count": 7,
   "metadata": {},
   "outputs": [
    {
     "name": "stdout",
     "output_type": "stream",
     "text": [
      "+----------+------------------------+\n",
      "|prediction|Is_Front_Car_Change_Lane|\n",
      "+----------+------------------------+\n",
      "|       0.0|                     0.0|\n",
      "|       0.0|                     0.0|\n",
      "|       0.0|                     0.0|\n",
      "|       0.0|                     0.0|\n",
      "|       1.0|                     0.0|\n",
      "|       1.0|                     0.0|\n",
      "|       0.0|                     0.0|\n",
      "|       0.0|                     0.0|\n",
      "|       0.0|                     0.0|\n",
      "|       0.0|                     0.0|\n",
      "+----------+------------------------+\n",
      "only showing top 10 rows\n",
      "\n",
      "Accuracy =  0.8888888888888888\n",
      "Test Error = 0.111111 \n"
     ]
    }
   ],
   "source": [
    "from pyspark.ml.classification import LogisticRegression\n",
    "\n",
    "# Create an initial model using the train set.\n",
    "lr = LogisticRegression(featuresCol = 'features', labelCol = 'Is_Front_Car_Change_Lane',    maxIter=10)\n",
    "lrModel = lr.fit(trainingData)\n",
    "\n",
    "predictions = lrModel.transform(testData)\n",
    "predictions.select(\"prediction\", \"Is_Front_Car_Change_Lane\").show(10)\n",
    "\n",
    "evaluator = MulticlassClassificationEvaluator(\\\n",
    "\n",
    "labelCol=\"Is_Front_Car_Change_Lane\", predictionCol=\"prediction\",\\\n",
    "\n",
    "metricName=\"accuracy\")\n",
    "\n",
    "accuracy2 = evaluator.evaluate(predictions)\n",
    "\n",
    "print(\"Accuracy = \", accuracy2)\n",
    "print(\"Test Error = %g \" % (1.0 - accuracy2))"
   ]
  },
  {
   "cell_type": "markdown",
   "metadata": {},
   "source": [
    "## GBT"
   ]
  },
  {
   "cell_type": "code",
   "execution_count": 8,
   "metadata": {},
   "outputs": [
    {
     "name": "stdout",
     "output_type": "stream",
     "text": [
      "+----------+------------------------+\n",
      "|prediction|Is_Front_Car_Change_Lane|\n",
      "+----------+------------------------+\n",
      "|       0.0|                     0.0|\n",
      "|       0.0|                     0.0|\n",
      "|       0.0|                     0.0|\n",
      "|       0.0|                     0.0|\n",
      "|       1.0|                     0.0|\n",
      "|       1.0|                     0.0|\n",
      "|       0.0|                     0.0|\n",
      "|       0.0|                     0.0|\n",
      "|       0.0|                     0.0|\n",
      "|       0.0|                     0.0|\n",
      "+----------+------------------------+\n",
      "only showing top 10 rows\n",
      "\n",
      "Accuracy =  0.9259259259259259\n",
      "Test Error = 0.0740741 \n"
     ]
    }
   ],
   "source": [
    "from pyspark.ml.classification import GBTClassifier\n",
    "\n",
    "gbt = GBTClassifier(featuresCol = 'features', labelCol = 'Is_Front_Car_Change_Lane', maxIter=10)\n",
    "gbtModel = gbt.fit(trainingData)\n",
    "predictions = gbtModel.transform(testData)\n",
    "predictions.select(\"prediction\", \"Is_Front_Car_Change_Lane\").show(10)\n",
    "\n",
    "evaluator = MulticlassClassificationEvaluator(\\\n",
    "\n",
    "labelCol=\"Is_Front_Car_Change_Lane\", predictionCol=\"prediction\",\\\n",
    "\n",
    "metricName=\"accuracy\")\n",
    "\n",
    "accuracy3 = evaluator.evaluate(predictions)\n",
    "\n",
    "print(\"Accuracy = \", accuracy3)\n",
    "print(\"Test Error = %g \" % (1.0 - accuracy3))"
   ]
  },
  {
   "cell_type": "code",
   "execution_count": 9,
   "metadata": {},
   "outputs": [
    {
     "name": "stdout",
     "output_type": "stream",
     "text": [
      "Requirement already satisfied: matplotlib in /srv/home/qliu0028/FIT5202/jupyter/lib/python3.6/site-packages (3.1.1)\n",
      "Requirement already satisfied: pyparsing!=2.0.4,!=2.1.2,!=2.1.6,>=2.0.1 in /srv/home/qliu0028/FIT5202/jupyter/lib/python3.6/site-packages (from matplotlib) (2.4.2)\n",
      "Requirement already satisfied: numpy>=1.11 in /srv/home/qliu0028/FIT5202/jupyter/lib/python3.6/site-packages (from matplotlib) (1.17.0)\n",
      "Requirement already satisfied: kiwisolver>=1.0.1 in /srv/home/qliu0028/FIT5202/jupyter/lib/python3.6/site-packages (from matplotlib) (1.1.0)\n",
      "Requirement already satisfied: python-dateutil>=2.1 in /srv/home/qliu0028/FIT5202/jupyter/lib/python3.6/site-packages (from matplotlib) (2.8.0)\n",
      "Requirement already satisfied: cycler>=0.10 in /srv/home/qliu0028/FIT5202/jupyter/lib/python3.6/site-packages (from matplotlib) (0.10.0)\n",
      "Requirement already satisfied: setuptools in /srv/home/qliu0028/FIT5202/jupyter/lib/python3.6/site-packages (from kiwisolver>=1.0.1->matplotlib) (41.0.1)\n",
      "Requirement already satisfied: six>=1.5 in /srv/home/qliu0028/FIT5202/jupyter/lib/python3.6/site-packages (from python-dateutil>=2.1->matplotlib) (1.12.0)\n",
      "\u001b[33mWARNING: You are using pip version 19.2.1, however version 19.3 is available.\n",
      "You should consider upgrading via the 'pip install --upgrade pip' command.\u001b[0m\n"
     ]
    },
    {
     "data": {
      "image/png": "[encoded data removed]",
      "text/plain": [
       "<Figure size 432x288 with 1 Axes>"
      ]
     },
     "metadata": {
      "needs_background": "light"
     },
     "output_type": "display_data"
    }
   ],
   "source": [
    "import numpy as np\n",
    "!pip install matplotlib\n",
    "import matplotlib.pyplot as plt\n",
    "%matplotlib inline\n",
    "\n",
    "x = ['DTC', 'LR', 'GBTC']\n",
    "y = [accuracy1, accuracy2, accuracy3]\n",
    "\n",
    "\n",
    "bar_width = 0.7\n",
    "\n",
    "y_pos = np.arange(len(x))\n",
    "\n",
    "plt.bar(y_pos, y, bar_width, align='center')\n",
    "plt.xticks(y_pos, x)\n",
    "plt.xlabel('Classification Algorithms')\n",
    "plt.ylabel('Accuracy')\n",
    "plt.title('Comparison of the accuracy of different Classification Algorithms')\n",
    "plt.tight_layout()\n",
    "plt.show()"
   ]
  }
 ],
 "metadata": {
  "kernelspec": {
   "display_name": "Python 3",
   "language": "python",
   "name": "python3"
  },
  "language_info": {
   "codemirror_mode": {
    "name": "ipython",
    "version": 3
   },
   "file_extension": ".py",
   "mimetype": "text/x-python",
   "name": "python",
   "nbconvert_exporter": "python",
   "pygments_lexer": "ipython3",
   "version": "3.7.3"
  }
 },
 "nbformat": 4,
 "nbformat_minor": 2
}
